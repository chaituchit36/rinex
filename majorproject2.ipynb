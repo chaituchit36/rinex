{
  "nbformat": 4,
  "nbformat_minor": 0,
  "metadata": {
    "colab": {
      "provenance": []
    },
    "kernelspec": {
      "name": "python3",
      "display_name": "Python 3"
    },
    "language_info": {
      "name": "python"
    }
  },
  "cells": [
    {
      "cell_type": "code",
      "source": [
        "# K MEANS CLUSTERING\n",
        "import pandas as pd\n",
        "#To take and create dataframe\n",
        "df = pd.read_csv('house_price.csv')\n",
        "df"
      ],
      "metadata": {
        "colab": {
          "base_uri": "https://localhost:8080/",
          "height": 424
        },
        "id": "p6iam-1OWeQx",
        "outputId": "2f9ff485-ca81-435c-9d57-dc25aadae517"
      },
      "execution_count": 2,
      "outputs": [
        {
          "output_type": "execute_result",
          "data": {
            "text/plain": [
              "         Location  BHK  Furnishing  Sq.ft  Old(years)  Floor  Price\n",
              "0    Bommanahalli    3           1   3000           1      3  28000\n",
              "1    Bommanahalli    3           1   1650          10      0  18000\n",
              "2      Whitefield    2           0   1000           5      3  16400\n",
              "3      Whitefield    3           0   1600           1      9  27000\n",
              "4      Whitefield    2           1   1200           5      1  20000\n",
              "..            ...  ...         ...    ...         ...    ...    ...\n",
              "995  Bommanahalli    3           1   1460           1      2  25000\n",
              "996    Whitefield    3           0   2100           1      7  28000\n",
              "997  Bommanahalli    2           0   1033           5      0  16500\n",
              "998  Bommanahalli    3           0   1500          10      1  22000\n",
              "999    Whitefield    3           1   1768           5     11  30000\n",
              "\n",
              "[1000 rows x 7 columns]"
            ],
            "text/html": [
              "\n",
              "  <div id=\"df-abc6fb20-43c9-42d0-8e05-26a82145fcac\">\n",
              "    <div class=\"colab-df-container\">\n",
              "      <div>\n",
              "<style scoped>\n",
              "    .dataframe tbody tr th:only-of-type {\n",
              "        vertical-align: middle;\n",
              "    }\n",
              "\n",
              "    .dataframe tbody tr th {\n",
              "        vertical-align: top;\n",
              "    }\n",
              "\n",
              "    .dataframe thead th {\n",
              "        text-align: right;\n",
              "    }\n",
              "</style>\n",
              "<table border=\"1\" class=\"dataframe\">\n",
              "  <thead>\n",
              "    <tr style=\"text-align: right;\">\n",
              "      <th></th>\n",
              "      <th>Location</th>\n",
              "      <th>BHK</th>\n",
              "      <th>Furnishing</th>\n",
              "      <th>Sq.ft</th>\n",
              "      <th>Old(years)</th>\n",
              "      <th>Floor</th>\n",
              "      <th>Price</th>\n",
              "    </tr>\n",
              "  </thead>\n",
              "  <tbody>\n",
              "    <tr>\n",
              "      <th>0</th>\n",
              "      <td>Bommanahalli</td>\n",
              "      <td>3</td>\n",
              "      <td>1</td>\n",
              "      <td>3000</td>\n",
              "      <td>1</td>\n",
              "      <td>3</td>\n",
              "      <td>28000</td>\n",
              "    </tr>\n",
              "    <tr>\n",
              "      <th>1</th>\n",
              "      <td>Bommanahalli</td>\n",
              "      <td>3</td>\n",
              "      <td>1</td>\n",
              "      <td>1650</td>\n",
              "      <td>10</td>\n",
              "      <td>0</td>\n",
              "      <td>18000</td>\n",
              "    </tr>\n",
              "    <tr>\n",
              "      <th>2</th>\n",
              "      <td>Whitefield</td>\n",
              "      <td>2</td>\n",
              "      <td>0</td>\n",
              "      <td>1000</td>\n",
              "      <td>5</td>\n",
              "      <td>3</td>\n",
              "      <td>16400</td>\n",
              "    </tr>\n",
              "    <tr>\n",
              "      <th>3</th>\n",
              "      <td>Whitefield</td>\n",
              "      <td>3</td>\n",
              "      <td>0</td>\n",
              "      <td>1600</td>\n",
              "      <td>1</td>\n",
              "      <td>9</td>\n",
              "      <td>27000</td>\n",
              "    </tr>\n",
              "    <tr>\n",
              "      <th>4</th>\n",
              "      <td>Whitefield</td>\n",
              "      <td>2</td>\n",
              "      <td>1</td>\n",
              "      <td>1200</td>\n",
              "      <td>5</td>\n",
              "      <td>1</td>\n",
              "      <td>20000</td>\n",
              "    </tr>\n",
              "    <tr>\n",
              "      <th>...</th>\n",
              "      <td>...</td>\n",
              "      <td>...</td>\n",
              "      <td>...</td>\n",
              "      <td>...</td>\n",
              "      <td>...</td>\n",
              "      <td>...</td>\n",
              "      <td>...</td>\n",
              "    </tr>\n",
              "    <tr>\n",
              "      <th>995</th>\n",
              "      <td>Bommanahalli</td>\n",
              "      <td>3</td>\n",
              "      <td>1</td>\n",
              "      <td>1460</td>\n",
              "      <td>1</td>\n",
              "      <td>2</td>\n",
              "      <td>25000</td>\n",
              "    </tr>\n",
              "    <tr>\n",
              "      <th>996</th>\n",
              "      <td>Whitefield</td>\n",
              "      <td>3</td>\n",
              "      <td>0</td>\n",
              "      <td>2100</td>\n",
              "      <td>1</td>\n",
              "      <td>7</td>\n",
              "      <td>28000</td>\n",
              "    </tr>\n",
              "    <tr>\n",
              "      <th>997</th>\n",
              "      <td>Bommanahalli</td>\n",
              "      <td>2</td>\n",
              "      <td>0</td>\n",
              "      <td>1033</td>\n",
              "      <td>5</td>\n",
              "      <td>0</td>\n",
              "      <td>16500</td>\n",
              "    </tr>\n",
              "    <tr>\n",
              "      <th>998</th>\n",
              "      <td>Bommanahalli</td>\n",
              "      <td>3</td>\n",
              "      <td>0</td>\n",
              "      <td>1500</td>\n",
              "      <td>10</td>\n",
              "      <td>1</td>\n",
              "      <td>22000</td>\n",
              "    </tr>\n",
              "    <tr>\n",
              "      <th>999</th>\n",
              "      <td>Whitefield</td>\n",
              "      <td>3</td>\n",
              "      <td>1</td>\n",
              "      <td>1768</td>\n",
              "      <td>5</td>\n",
              "      <td>11</td>\n",
              "      <td>30000</td>\n",
              "    </tr>\n",
              "  </tbody>\n",
              "</table>\n",
              "<p>1000 rows × 7 columns</p>\n",
              "</div>\n",
              "      <button class=\"colab-df-convert\" onclick=\"convertToInteractive('df-abc6fb20-43c9-42d0-8e05-26a82145fcac')\"\n",
              "              title=\"Convert this dataframe to an interactive table.\"\n",
              "              style=\"display:none;\">\n",
              "        \n",
              "  <svg xmlns=\"http://www.w3.org/2000/svg\" height=\"24px\"viewBox=\"0 0 24 24\"\n",
              "       width=\"24px\">\n",
              "    <path d=\"M0 0h24v24H0V0z\" fill=\"none\"/>\n",
              "    <path d=\"M18.56 5.44l.94 2.06.94-2.06 2.06-.94-2.06-.94-.94-2.06-.94 2.06-2.06.94zm-11 1L8.5 8.5l.94-2.06 2.06-.94-2.06-.94L8.5 2.5l-.94 2.06-2.06.94zm10 10l.94 2.06.94-2.06 2.06-.94-2.06-.94-.94-2.06-.94 2.06-2.06.94z\"/><path d=\"M17.41 7.96l-1.37-1.37c-.4-.4-.92-.59-1.43-.59-.52 0-1.04.2-1.43.59L10.3 9.45l-7.72 7.72c-.78.78-.78 2.05 0 2.83L4 21.41c.39.39.9.59 1.41.59.51 0 1.02-.2 1.41-.59l7.78-7.78 2.81-2.81c.8-.78.8-2.07 0-2.86zM5.41 20L4 18.59l7.72-7.72 1.47 1.35L5.41 20z\"/>\n",
              "  </svg>\n",
              "      </button>\n",
              "      \n",
              "  <style>\n",
              "    .colab-df-container {\n",
              "      display:flex;\n",
              "      flex-wrap:wrap;\n",
              "      gap: 12px;\n",
              "    }\n",
              "\n",
              "    .colab-df-convert {\n",
              "      background-color: #E8F0FE;\n",
              "      border: none;\n",
              "      border-radius: 50%;\n",
              "      cursor: pointer;\n",
              "      display: none;\n",
              "      fill: #1967D2;\n",
              "      height: 32px;\n",
              "      padding: 0 0 0 0;\n",
              "      width: 32px;\n",
              "    }\n",
              "\n",
              "    .colab-df-convert:hover {\n",
              "      background-color: #E2EBFA;\n",
              "      box-shadow: 0px 1px 2px rgba(60, 64, 67, 0.3), 0px 1px 3px 1px rgba(60, 64, 67, 0.15);\n",
              "      fill: #174EA6;\n",
              "    }\n",
              "\n",
              "    [theme=dark] .colab-df-convert {\n",
              "      background-color: #3B4455;\n",
              "      fill: #D2E3FC;\n",
              "    }\n",
              "\n",
              "    [theme=dark] .colab-df-convert:hover {\n",
              "      background-color: #434B5C;\n",
              "      box-shadow: 0px 1px 3px 1px rgba(0, 0, 0, 0.15);\n",
              "      filter: drop-shadow(0px 1px 2px rgba(0, 0, 0, 0.3));\n",
              "      fill: #FFFFFF;\n",
              "    }\n",
              "  </style>\n",
              "\n",
              "      <script>\n",
              "        const buttonEl =\n",
              "          document.querySelector('#df-abc6fb20-43c9-42d0-8e05-26a82145fcac button.colab-df-convert');\n",
              "        buttonEl.style.display =\n",
              "          google.colab.kernel.accessAllowed ? 'block' : 'none';\n",
              "\n",
              "        async function convertToInteractive(key) {\n",
              "          const element = document.querySelector('#df-abc6fb20-43c9-42d0-8e05-26a82145fcac');\n",
              "          const dataTable =\n",
              "            await google.colab.kernel.invokeFunction('convertToInteractive',\n",
              "                                                     [key], {});\n",
              "          if (!dataTable) return;\n",
              "\n",
              "          const docLinkHtml = 'Like what you see? Visit the ' +\n",
              "            '<a target=\"_blank\" href=https://colab.research.google.com/notebooks/data_table.ipynb>data table notebook</a>'\n",
              "            + ' to learn more about interactive tables.';\n",
              "          element.innerHTML = '';\n",
              "          dataTable['output_type'] = 'display_data';\n",
              "          await google.colab.output.renderOutput(dataTable, element);\n",
              "          const docLink = document.createElement('div');\n",
              "          docLink.innerHTML = docLinkHtml;\n",
              "          element.appendChild(docLink);\n",
              "        }\n",
              "      </script>\n",
              "    </div>\n",
              "  </div>\n",
              "  "
            ]
          },
          "metadata": {},
          "execution_count": 2
        }
      ]
    },
    {
      "cell_type": "code",
      "source": [
        "df.info\n"
      ],
      "metadata": {
        "colab": {
          "base_uri": "https://localhost:8080/",
          "height": 0
        },
        "id": "nEjEYmpvWv4b",
        "outputId": "7e1a77b1-78e5-4350-a441-d5a951b18c2f"
      },
      "execution_count": 3,
      "outputs": [
        {
          "output_type": "execute_result",
          "data": {
            "text/plain": [
              "<bound method DataFrame.info of          Location  BHK  Furnishing  Sq.ft  Old(years)  Floor  Price\n",
              "0    Bommanahalli    3           1   3000           1      3  28000\n",
              "1    Bommanahalli    3           1   1650          10      0  18000\n",
              "2      Whitefield    2           0   1000           5      3  16400\n",
              "3      Whitefield    3           0   1600           1      9  27000\n",
              "4      Whitefield    2           1   1200           5      1  20000\n",
              "..            ...  ...         ...    ...         ...    ...    ...\n",
              "995  Bommanahalli    3           1   1460           1      2  25000\n",
              "996    Whitefield    3           0   2100           1      7  28000\n",
              "997  Bommanahalli    2           0   1033           5      0  16500\n",
              "998  Bommanahalli    3           0   1500          10      1  22000\n",
              "999    Whitefield    3           1   1768           5     11  30000\n",
              "\n",
              "[1000 rows x 7 columns]>"
            ]
          },
          "metadata": {},
          "execution_count": 3
        }
      ]
    },
    {
      "cell_type": "code",
      "source": [
        "df.shape\n",
        "#rows,columns"
      ],
      "metadata": {
        "colab": {
          "base_uri": "https://localhost:8080/",
          "height": 0
        },
        "id": "wlraIVAlW6nO",
        "outputId": "d66f2f24-bdb8-4f10-d3ff-250dc7cb36b8"
      },
      "execution_count": 4,
      "outputs": [
        {
          "output_type": "execute_result",
          "data": {
            "text/plain": [
              "(1000, 7)"
            ]
          },
          "metadata": {},
          "execution_count": 4
        }
      ]
    },
    {
      "cell_type": "code",
      "source": [
        "y= df.iloc[:,3:5].values\n",
        "y"
      ],
      "metadata": {
        "colab": {
          "base_uri": "https://localhost:8080/",
          "height": 0
        },
        "id": "HqsiE6muXD9A",
        "outputId": "802a1177-a661-4bb1-f5c2-b39c94c780e7"
      },
      "execution_count": 18,
      "outputs": [
        {
          "output_type": "execute_result",
          "data": {
            "text/plain": [
              "array([[3000,    1],\n",
              "       [1650,   10],\n",
              "       [1000,    5],\n",
              "       ...,\n",
              "       [1033,    5],\n",
              "       [1500,   10],\n",
              "       [1768,    5]])"
            ]
          },
          "metadata": {},
          "execution_count": 18
        }
      ]
    },
    {
      "cell_type": "code",
      "source": [
        "#VISUALISATION\n",
        "import matplotlib.pyplot as plt\n",
        "plt.scatter(df['Sq.ft'],df['Price'])"
      ],
      "metadata": {
        "colab": {
          "base_uri": "https://localhost:8080/",
          "height": 282
        },
        "id": "XlzB_s54XrMK",
        "outputId": "1060215f-db96-47ed-d47c-f3a42a87cb7c"
      },
      "execution_count": 9,
      "outputs": [
        {
          "output_type": "execute_result",
          "data": {
            "text/plain": [
              "<matplotlib.collections.PathCollection at 0x7f166bc0ac10>"
            ]
          },
          "metadata": {},
          "execution_count": 9
        },
        {
          "output_type": "display_data",
          "data": {
            "text/plain": [
              "<Figure size 432x288 with 1 Axes>"
            ],
            "image/png": "[encoded data removed]"
          },
          "metadata": {
            "needs_background": "light"
          }
        }
      ]
    },
    {
      "cell_type": "code",
      "source": [
        "import numpy as np\n",
        "np.sqrt(1000)"
      ],
      "metadata": {
        "colab": {
          "base_uri": "https://localhost:8080/",
          "height": 0
        },
        "id": "QJUToNZWa6bY",
        "outputId": "fd260d8c-dee8-47ba-8266-ca9ef69bb94b"
      },
      "execution_count": 48,
      "outputs": [
        {
          "output_type": "execute_result",
          "data": {
            "text/plain": [
              "31.622776601683793"
            ]
          },
          "metadata": {},
          "execution_count": 48
        }
      ]
    },
    {
      "cell_type": "code",
      "source": [
        "#DELBOW METHOd\n",
        "from sklearn.cluster import KMeans\n",
        "k = range(2,32)\n",
        "\n",
        "sse = [] \n",
        "for i in k :\n",
        "  model_demo = KMeans(n_clusters = i,random_state = 0)\n",
        "  model_demo.fit(y)\n",
        "  sse.append(model_demo.inertia_)#.inertia_ - calculates the sum of squared error\n",
        "plt.scatter(k,sse)\n",
        "plt.plot(k,sse)"
      ],
      "metadata": {
        "colab": {
          "base_uri": "https://localhost:8080/",
          "height": 293
        },
        "id": "4TUt2AvXbXfn",
        "outputId": "1ed0976b-c91b-4f03-8f34-83c89ec31392"
      },
      "execution_count": 49,
      "outputs": [
        {
          "output_type": "execute_result",
          "data": {
            "text/plain": [
              "[<matplotlib.lines.Line2D at 0x7f1659093c10>]"
            ]
          },
          "metadata": {},
          "execution_count": 49
        },
        {
          "output_type": "display_data",
          "data": {
            "text/plain": [
              "<Figure size 432x288 with 1 Axes>"
            ],
            "image/png": "[encoded data removed]"
          },
          "metadata": {
            "needs_background": "light"
          }
        }
      ]
    },
    {
      "cell_type": "code",
      "source": [
        "#SILHOUETTE SCORE METHOD\n",
        "from sklearn.metrics import silhouette_score\n",
        "k = range(2,32)\n",
        "for i in k:\n",
        "  model_demo = KMeans(n_clusters = i,random_state = 0)\n",
        "  model_demo.fit(y)\n",
        "  y_pred = model_demo.predict(y)\n",
        "  print(f\"{i} Clusters ,Score = {silhouette_score(y,y_pred)}\")\n",
        "  plt.bar(i,silhouette_score(y,y_pred))\n"
      ],
      "metadata": {
        "colab": {
          "base_uri": "https://localhost:8080/",
          "height": 786
        },
        "id": "ZZIcDI0WcqLj",
        "outputId": "4c167d6f-d9ff-4df6-81b0-916b3e44d2dd"
      },
      "execution_count": 50,
      "outputs": [
        {
          "output_type": "stream",
          "name": "stdout",
          "text": [
            "2 Clusters ,Score = 0.6843832383333859\n",
            "3 Clusters ,Score = 0.6487757150702932\n",
            "4 Clusters ,Score = 0.6179086477188934\n",
            "5 Clusters ,Score = 0.6745090243383134\n",
            "6 Clusters ,Score = 0.6606348424821517\n",
            "7 Clusters ,Score = 0.6812680477758095\n",
            "8 Clusters ,Score = 0.688238391648401\n",
            "9 Clusters ,Score = 0.6958579965146996\n",
            "10 Clusters ,Score = 0.6828483930853785\n",
            "11 Clusters ,Score = 0.6541168646153446\n",
            "12 Clusters ,Score = 0.6562667263376686\n",
            "13 Clusters ,Score = 0.6929887950316206\n",
            "14 Clusters ,Score = 0.7098870523083451\n",
            "15 Clusters ,Score = 0.7305594911491408\n",
            "16 Clusters ,Score = 0.7511810352520589\n",
            "17 Clusters ,Score = 0.7472488841209634\n",
            "18 Clusters ,Score = 0.7635040753228173\n",
            "19 Clusters ,Score = 0.8000416538185474\n",
            "20 Clusters ,Score = 0.8203757678855969\n",
            "21 Clusters ,Score = 0.8459106893201249\n",
            "22 Clusters ,Score = 0.8523549770826594\n",
            "23 Clusters ,Score = 0.854714402705682\n",
            "24 Clusters ,Score = 0.8630593635178538\n",
            "25 Clusters ,Score = 0.8794139946400195\n",
            "26 Clusters ,Score = 0.8941198034674106\n",
            "27 Clusters ,Score = 0.8987381116273503\n",
            "28 Clusters ,Score = 0.903957284188706\n",
            "29 Clusters ,Score = 0.9086072986413682\n",
            "30 Clusters ,Score = 0.9133878900320818\n",
            "31 Clusters ,Score = 0.918322612254304\n"
          ]
        },
        {
          "output_type": "display_data",
          "data": {
            "text/plain": [
              "<Figure size 432x288 with 1 Axes>"
            ],
            "image/png": "[encoded data removed]"
          },
          "metadata": {
            "needs_background": "light"
          }
        }
      ]
    },
    {
      "cell_type": "code",
      "source": [
        "#applying cluster\n",
        "k = 4\n",
        "from sklearn.cluster import KMeans\n",
        "\n",
        "model = KMeans(n_clusters = k,random_state = 0)\n",
        "model.fit(y)"
      ],
      "metadata": {
        "colab": {
          "base_uri": "https://localhost:8080/",
          "height": 0
        },
        "id": "6cnnfJQBerd2",
        "outputId": "06122e40-2ae1-4c7f-c1f7-479df24cb9fc"
      },
      "execution_count": 51,
      "outputs": [
        {
          "output_type": "execute_result",
          "data": {
            "text/plain": [
              "KMeans(n_clusters=4, random_state=0)"
            ]
          },
          "metadata": {},
          "execution_count": 51
        }
      ]
    },
    {
      "cell_type": "code",
      "source": [
        "z = model.predict(y)\n",
        "z"
      ],
      "metadata": {
        "colab": {
          "base_uri": "https://localhost:8080/",
          "height": 0
        },
        "id": "kxnjPP_bfKT3",
        "outputId": "9a1be4e7-badb-40d6-911b-3ec083b071de"
      },
      "execution_count": 52,
      "outputs": [
        {
          "output_type": "execute_result",
          "data": {
            "text/plain": [
              "array([2, 3, 0, 3, 0, 3, 1, 1, 1, 3, 0, 0, 0, 3, 0, 0, 2, 2, 0, 2, 3, 0,\n",
              "       0, 3, 0, 1, 0, 0, 0, 0, 0, 0, 1, 0, 0, 0, 0, 1, 0, 1, 3, 3, 3, 0,\n",
              "       0, 0, 3, 0, 0, 3, 0, 0, 0, 3, 1, 3, 0, 3, 0, 0, 3, 3, 0, 0, 1, 1,\n",
              "       1, 0, 0, 0, 0, 0, 0, 0, 3, 1, 0, 3, 3, 0, 3, 0, 2, 3, 0, 3, 0, 0,\n",
              "       1, 0, 1, 0, 0, 0, 0, 0, 1, 0, 0, 3, 0, 0, 0, 0, 3, 1, 0, 0, 0, 0,\n",
              "       0, 0, 0, 0, 3, 0, 0, 3, 3, 0, 3, 2, 0, 3, 3, 0, 3, 1, 3, 0, 0, 0,\n",
              "       1, 0, 3, 0, 3, 1, 0, 2, 0, 0, 0, 0, 0, 3, 0, 0, 0, 0, 0, 3, 0, 1,\n",
              "       0, 0, 0, 1, 0, 0, 0, 3, 3, 1, 1, 3, 0, 2, 3, 1, 2, 0, 0, 0, 2, 1,\n",
              "       0, 0, 0, 3, 0, 3, 0, 0, 0, 0, 2, 3, 0, 0, 1, 3, 0, 0, 0, 1, 3, 2,\n",
              "       0, 3, 0, 0, 0, 0, 0, 0, 3, 0, 3, 0, 3, 0, 0, 3, 3, 0, 0, 0, 1, 3,\n",
              "       3, 3, 3, 0, 0, 2, 3, 3, 0, 0, 0, 3, 0, 0, 1, 3, 3, 3, 0, 3, 2, 0,\n",
              "       1, 0, 1, 0, 3, 3, 0, 0, 2, 0, 1, 0, 0, 0, 3, 0, 3, 1, 0, 3, 0, 0,\n",
              "       0, 3, 3, 0, 3, 3, 3, 3, 2, 0, 0, 0, 3, 1, 1, 0, 0, 0, 0, 1, 0, 3,\n",
              "       0, 0, 3, 1, 1, 0, 3, 3, 3, 3, 0, 1, 0, 0, 1, 0, 0, 0, 0, 3, 3, 0,\n",
              "       0, 1, 1, 3, 3, 0, 3, 0, 0, 1, 1, 0, 0, 0, 0, 3, 3, 3, 0, 1, 0, 0,\n",
              "       0, 1, 0, 2, 0, 0, 3, 0, 2, 1, 0, 0, 0, 0, 0, 0, 0, 3, 3, 0, 0, 0,\n",
              "       3, 1, 0, 0, 3, 0, 1, 0, 0, 0, 3, 0, 0, 0, 0, 0, 2, 0, 3, 1, 1, 0,\n",
              "       3, 0, 0, 3, 0, 3, 0, 3, 0, 0, 3, 0, 1, 0, 0, 0, 3, 0, 0, 3, 3, 3,\n",
              "       0, 0, 0, 3, 0, 3, 3, 3, 0, 0, 2, 3, 0, 3, 0, 0, 3, 3, 3, 0, 3, 0,\n",
              "       3, 0, 0, 3, 0, 0, 3, 3, 3, 0, 0, 0, 0, 3, 0, 3, 3, 2, 0, 0, 0, 0,\n",
              "       3, 0, 0, 3, 0, 3, 0, 2, 0, 3, 3, 0, 3, 1, 0, 0, 0, 3, 0, 3, 3, 0,\n",
              "       0, 0, 0, 0, 1, 1, 0, 0, 3, 0, 0, 0, 2, 0, 0, 0, 0, 0, 3, 3, 3, 3,\n",
              "       0, 3, 0, 3, 3, 3, 0, 0, 0, 0, 1, 3, 0, 3, 0, 1, 0, 0, 3, 1, 3, 1,\n",
              "       0, 1, 0, 0, 3, 1, 3, 3, 3, 0, 0, 0, 3, 1, 3, 0, 1, 3, 0, 0, 0, 0,\n",
              "       0, 1, 3, 1, 0, 0, 0, 1, 3, 3, 0, 3, 0, 3, 3, 3, 0, 3, 1, 0, 3, 0,\n",
              "       0, 1, 3, 3, 0, 0, 0, 0, 0, 0, 0, 3, 3, 1, 0, 0, 3, 3, 1, 1, 0, 0,\n",
              "       2, 0, 0, 0, 0, 0, 0, 3, 0, 0, 3, 3, 3, 0, 3, 3, 0, 2, 1, 2, 3, 0,\n",
              "       0, 3, 0, 0, 1, 0, 0, 3, 0, 3, 3, 3, 0, 3, 3, 0, 0, 0, 0, 3, 0, 0,\n",
              "       0, 3, 0, 0, 0, 0, 0, 1, 1, 0, 3, 0, 1, 0, 3, 1, 0, 0, 3, 3, 0, 3,\n",
              "       0, 0, 3, 3, 3, 3, 1, 1, 0, 3, 0, 3, 0, 3, 3, 1, 0, 3, 1, 3, 2, 0,\n",
              "       3, 1, 0, 1, 3, 0, 1, 3, 3, 0, 3, 0, 3, 3, 3, 3, 0, 1, 3, 0, 0, 0,\n",
              "       0, 3, 0, 0, 0, 3, 3, 1, 0, 0, 0, 1, 3, 3, 0, 0, 3, 3, 0, 1, 3, 1,\n",
              "       0, 3, 0, 0, 0, 0, 0, 1, 1, 3, 0, 3, 0, 0, 0, 0, 0, 0, 0, 0, 0, 0,\n",
              "       0, 0, 0, 0, 0, 2, 0, 0, 3, 0, 0, 0, 3, 3, 3, 0, 3, 0, 1, 0, 0, 1,\n",
              "       1, 2, 0, 3, 3, 0, 3, 3, 0, 0, 0, 3, 0, 0, 0, 3, 1, 0, 3, 3, 0, 0,\n",
              "       0, 0, 3, 0, 0, 0, 3, 0, 0, 3, 0, 1, 3, 0, 0, 3, 0, 0, 3, 0, 0, 0,\n",
              "       0, 0, 3, 0, 2, 3, 0, 1, 0, 1, 0, 0, 1, 0, 0, 0, 2, 3, 3, 0, 3, 0,\n",
              "       0, 1, 0, 0, 1, 0, 3, 3, 2, 0, 0, 0, 3, 0, 1, 2, 1, 3, 0, 3, 0, 0,\n",
              "       3, 1, 0, 1, 3, 0, 0, 0, 3, 1, 3, 0, 0, 0, 0, 0, 0, 0, 3, 0, 3, 0,\n",
              "       0, 0, 2, 3, 0, 0, 3, 0, 2, 0, 0, 0, 3, 1, 1, 0, 3, 0, 0, 0, 0, 2,\n",
              "       0, 0, 3, 0, 3, 0, 1, 0, 0, 0, 0, 0, 0, 0, 0, 3, 0, 0, 0, 3, 0, 0,\n",
              "       3, 3, 0, 1, 2, 0, 0, 3, 0, 0, 0, 0, 0, 2, 0, 3, 0, 3, 0, 1, 0, 0,\n",
              "       0, 0, 0, 3, 0, 3, 0, 0, 0, 0, 0, 0, 0, 1, 0, 0, 3, 2, 1, 0, 3, 0,\n",
              "       2, 0, 0, 1, 0, 3, 0, 0, 3, 3, 0, 0, 0, 3, 3, 1, 0, 3, 0, 0, 0, 1,\n",
              "       0, 0, 0, 0, 0, 0, 0, 0, 0, 3, 3, 0, 0, 0, 3, 0, 3, 0, 1, 0, 1, 0,\n",
              "       3, 0, 3, 0, 0, 3, 1, 0, 3, 3], dtype=int32)"
            ]
          },
          "metadata": {},
          "execution_count": 52
        }
      ]
    },
    {
      "cell_type": "code",
      "source": [
        "y[z == 1,1]"
      ],
      "metadata": {
        "colab": {
          "base_uri": "https://localhost:8080/",
          "height": 0
        },
        "id": "aynHef3chm0g",
        "outputId": "dcaf525d-c27c-49e0-cd0f-162a565359e8"
      },
      "execution_count": 53,
      "outputs": [
        {
          "output_type": "execute_result",
          "data": {
            "text/plain": [
              "array([10,  1,  1,  5,  1,  1,  1,  5,  1,  1,  5,  1,  1,  1,  1,  1,  5,\n",
              "        1,  1,  1,  1,  1, 10,  1,  1,  1, 10,  1,  1,  1,  1,  1,  1, 10,\n",
              "        1,  1,  5,  1,  1,  1,  1,  1,  1,  5,  1,  1,  1, 10, 10,  1,  1,\n",
              "        1,  1,  1,  1,  1,  1, 10, 10,  1,  1,  5,  5,  1,  1, 10,  1,  5,\n",
              "       10, 10, 10,  1,  1,  1, 10,  1,  1,  1,  1,  1,  1,  1,  1,  1,  1,\n",
              "        1,  5,  5,  1,  5, 10,  1, 10,  1,  5,  1,  5,  1,  1, 10,  1,  1,\n",
              "        1, 10,  1,  5,  1,  1,  1,  1, 10,  5,  1,  5,  1, 10,  1,  1,  1])"
            ]
          },
          "metadata": {},
          "execution_count": 53
        }
      ]
    },
    {
      "cell_type": "code",
      "source": [
        "np.unique(z,return_counts = True)"
      ],
      "metadata": {
        "colab": {
          "base_uri": "https://localhost:8080/",
          "height": 0
        },
        "id": "kSMo8poMivcl",
        "outputId": "00eb2518-b3a6-4df0-9a05-36e159fae1ec"
      },
      "execution_count": 54,
      "outputs": [
        {
          "output_type": "execute_result",
          "data": {
            "text/plain": [
              "(array([0, 1, 2, 3], dtype=int32), array([555, 119,  40, 286]))"
            ]
          },
          "metadata": {},
          "execution_count": 54
        }
      ]
    },
    {
      "cell_type": "code",
      "source": [
        "#final visualisation\n",
        "plt.figure(figsize = (10,3))\n",
        "for i in range(k):\n",
        "  plt.scatter(y[z == i,0],y[z == i,1],label = f'Cluster {i}')\n",
        "plt.scatter(model.cluster_centers_[:,0],model.cluster_centers_[:,1],s = 200,c = 'yellow',\n",
        "            label = 'nthmuch')\n",
        "plt.legend()"
      ],
      "metadata": {
        "colab": {
          "base_uri": "https://localhost:8080/",
          "height": 228
        },
        "id": "iOAKNwCAfQ7N",
        "outputId": "6a52ae10-581a-48c6-f491-5eaf81d3f439"
      },
      "execution_count": 55,
      "outputs": [
        {
          "output_type": "execute_result",
          "data": {
            "text/plain": [
              "<matplotlib.legend.Legend at 0x7f1659390710>"
            ]
          },
          "metadata": {},
          "execution_count": 55
        },
        {
          "output_type": "display_data",
          "data": {
            "text/plain": [
              "<Figure size 720x216 with 1 Axes>"
            ],
            "image/png": "[encoded data removed]"
          },
          "metadata": {
            "needs_background": "light"
          }
        }
      ]
    }
  ]
}