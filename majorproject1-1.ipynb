{
  "nbformat": 4,
  "nbformat_minor": 0,
  "metadata": {
    "colab": {
      "provenance": []
    },
    "kernelspec": {
      "name": "python3",
      "display_name": "Python 3"
    },
    "language_info": {
      "name": "python"
    }
  },
  "cells": [
    {
      "cell_type": "code",
      "source": [
        "import pandas as pd\n",
        "df = pd.read_csv('TwitterHandles.csv')\n",
        "df"
      ],
      "metadata": {
        "colab": {
          "base_uri": "https://localhost:8080/",
          "height": 1554
        },
        "id": "Sru8Q9IoxECT",
        "outputId": "e45c8ac0-3242-4bac-b598-54775b00e8e6"
      },
      "execution_count": 5,
      "outputs": [
        {
          "output_type": "execute_result",
          "data": {
            "text/plain": [
              "         Party                               Name           Handle  \\\n",
              "0     Democrat                US Rep. Darren Soto    RepDarrenSoto   \n",
              "1     Democrat                   Rep. Jacky Rosen    RepJackyRosen   \n",
              "2     Democrat               US Rep. Al Lawson Jr    RepAlLawsonJr   \n",
              "3     Democrat                  Adriano Espaillat     RepEspaillat   \n",
              "4     Democrat                US Rep. Darren Soto    RepDarrenSoto   \n",
              "5     Democrat                   Rep. Jacky Rosen    RepJackyRosen   \n",
              "6     Democrat               US Rep. Al Lawson Jr    RepAlLawsonJr   \n",
              "7     Democrat                  Adriano Espaillat     RepEspaillat   \n",
              "8     Democrat               Rep. Blunt Rochester    RepBRochester   \n",
              "9     Democrat                Nanette D. Barragán      RepBarragan   \n",
              "10    Democrat                         Tom Suozzi     RepTomSuozzi   \n",
              "11    Democrat                     Rep. Ro Khanna      RepRoKhanna   \n",
              "12    Democrat               Rep. Ruben J. Kihuen        RepKihuen   \n",
              "13    Democrat               Rep. Donald McEachin      RepMcEachin   \n",
              "14    Democrat                Rep. Salud Carbajal      RepCarbajal   \n",
              "15    Democrat                 Rep. Charlie Crist  RepCharlieCrist   \n",
              "16    Democrat                    Rep. Lou Correa     RepLouCorrea   \n",
              "17    Democrat               Rep. Pramila Jayapal       RepJayapal   \n",
              "18    Democrat                Rep Josh Gottheimer         RepJoshG   \n",
              "19    Democrat                Raja Krishnamoorthi  CongressmanRaja   \n",
              "20    Democrat                Rep. Tom O'Halleran     RepOHalleran   \n",
              "21    Democrat                  Rep. Jamie Raskin        RepRaskin   \n",
              "22    Democrat                   Rep. Val Demings    RepValDemings   \n",
              "23    Democrat                 Rep. Jimmy Panetta  RepJimmyPanetta   \n",
              "24  Republican                       Debbie Lesko        RepDLesko   \n",
              "25  Republican                       Ralph Norman   RepRalphNorman   \n",
              "26  Republican                   Rep. Tom Garrett    RepTomGarrett   \n",
              "27  Republican                     Rep. Arrington     RepArrington   \n",
              "28  Republican                       Debbie Lesko        RepDLesko   \n",
              "29  Republican                       Ralph Norman   RepRalphNorman   \n",
              "30  Republican                   Rep. Tom Garrett    RepTomGarrett   \n",
              "31  Republican                     Rep. Arrington     RepArrington   \n",
              "32  Republican                          Jim Banks      RepJimBanks   \n",
              "33  Republican                        Jason Lewis    RepJasonLewis   \n",
              "34  Republican                Rep. Mike Gallagher     RepGallagher   \n",
              "35  Republican                      Dr. Neal Dunn    DrNealDunnFL2   \n",
              "36  Republican                          John Faso      RepJohnFaso   \n",
              "37  Republican                  Rep. Jack Bergman   RepJackBergman   \n",
              "38  Republican                    Rep. Brian Mast     RepBrianMast   \n",
              "39  Republican                 Trey Hollingsworth          RepTrey   \n",
              "40  Republican                 Rep. Paul Mitchell  RepPaulMitchell   \n",
              "41  Republican                      Drew Ferguson  RepDrewFerguson   \n",
              "42  Republican                   House Budget GOP   housebudgetGOP   \n",
              "43  Republican               Office of Rep. Amash      amashoffice   \n",
              "44  Republican                    Warren Davidson   WarrenDavidson   \n",
              "45  Republican                       Darin LaHood        RepLaHood   \n",
              "46  Republican  House Committee on Small Business    HouseSmallBiz   \n",
              "47  Republican                      Rep. Mia Love       RepMiaLove   \n",
              "\n",
              "                                            AvatarURL  \n",
              "0   https://pbs.twimg.com/profile_images/824454906...  \n",
              "1   https://pbs.twimg.com/profile_images/837772241...  \n",
              "2   https://pbs.twimg.com/profile_images/818493713...  \n",
              "3   https://pbs.twimg.com/profile_images/827580972...  \n",
              "4   https://pbs.twimg.com/profile_images/824454906...  \n",
              "5   https://pbs.twimg.com/profile_images/837772241...  \n",
              "6   https://pbs.twimg.com/profile_images/818493713...  \n",
              "7   https://pbs.twimg.com/profile_images/827580972...  \n",
              "8   https://pbs.twimg.com/profile_images/912673706...  \n",
              "9   https://pbs.twimg.com/profile_images/978337845...  \n",
              "10  https://pbs.twimg.com/profile_images/841322504...  \n",
              "11  https://pbs.twimg.com/profile_images/980828338...  \n",
              "12  https://pbs.twimg.com/profile_images/953714217...  \n",
              "13  https://pbs.twimg.com/profile_images/948252111...  \n",
              "14  https://pbs.twimg.com/profile_images/995074405...  \n",
              "15  https://pbs.twimg.com/profile_images/821404691...  \n",
              "16  https://pbs.twimg.com/profile_images/958720189...  \n",
              "17  https://pbs.twimg.com/profile_images/978268908...  \n",
              "18  https://pbs.twimg.com/profile_images/824380405...  \n",
              "19  https://pbs.twimg.com/profile_images/817454739...  \n",
              "20  https://pbs.twimg.com/profile_images/831523103...  \n",
              "21  https://pbs.twimg.com/profile_images/978260612...  \n",
              "22  https://pbs.twimg.com/profile_images/992390788...  \n",
              "23  https://pbs.twimg.com/profile_images/827208718...  \n",
              "24  https://pbs.twimg.com/profile_images/996810968...  \n",
              "25  https://pbs.twimg.com/profile_images/886594415...  \n",
              "26  https://pbs.twimg.com/profile_images/910308763...  \n",
              "27  https://pbs.twimg.com/profile_images/818265271...  \n",
              "28  https://pbs.twimg.com/profile_images/996810968...  \n",
              "29  https://pbs.twimg.com/profile_images/886594415...  \n",
              "30  https://pbs.twimg.com/profile_images/910308763...  \n",
              "31  https://pbs.twimg.com/profile_images/818265271...  \n",
              "32  https://pbs.twimg.com/profile_images/999752288...  \n",
              "33  https://pbs.twimg.com/profile_images/816364935...  \n",
              "34  https://pbs.twimg.com/profile_images/819978410...  \n",
              "35  https://pbs.twimg.com/profile_images/817396749...  \n",
              "36  https://pbs.twimg.com/profile_images/817512781...  \n",
              "37  https://pbs.twimg.com/profile_images/816703874...  \n",
              "38  https://pbs.twimg.com/profile_images/816019324...  \n",
              "39  https://pbs.twimg.com/profile_images/823622288...  \n",
              "40  https://pbs.twimg.com/profile_images/836624778...  \n",
              "41  https://pbs.twimg.com/profile_images/822518879...  \n",
              "42  https://pbs.twimg.com/profile_images/877202119...  \n",
              "43  https://pbs.twimg.com/profile_images/774995905...  \n",
              "44  https://pbs.twimg.com/profile_images/976467967...  \n",
              "45  https://pbs.twimg.com/profile_images/884784404...  \n",
              "46  https://pbs.twimg.com/profile_images/993492993...  \n",
              "47  https://pbs.twimg.com/profile_images/674678985...  "
            ],
            "text/html": [
              "\n",
              "  <div id=\"df-42660f27-4e03-4eec-8bb3-78dfed42e533\">\n",
              "    <div class=\"colab-df-container\">\n",
              "      <div>\n",
              "<style scoped>\n",
              "    .dataframe tbody tr th:only-of-type {\n",
              "        vertical-align: middle;\n",
              "    }\n",
              "\n",
              "    .dataframe tbody tr th {\n",
              "        vertical-align: top;\n",
              "    }\n",
              "\n",
              "    .dataframe thead th {\n",
              "        text-align: right;\n",
              "    }\n",
              "</style>\n",
              "<table border=\"1\" class=\"dataframe\">\n",
              "  <thead>\n",
              "    <tr style=\"text-align: right;\">\n",
              "      <th></th>\n",
              "      <th>Party</th>\n",
              "      <th>Name</th>\n",
              "      <th>Handle</th>\n",
              "      <th>AvatarURL</th>\n",
              "    </tr>\n",
              "  </thead>\n",
              "  <tbody>\n",
              "    <tr>\n",
              "      <th>0</th>\n",
              "      <td>Democrat</td>\n",
              "      <td>US Rep. Darren Soto</td>\n",
              "      <td>RepDarrenSoto</td>\n",
              "      <td>https://pbs.twimg.com/profile_images/824454906...</td>\n",
              "    </tr>\n",
              "    <tr>\n",
              "      <th>1</th>\n",
              "      <td>Democrat</td>\n",
              "      <td>Rep. Jacky Rosen</td>\n",
              "      <td>RepJackyRosen</td>\n",
              "      <td>https://pbs.twimg.com/profile_images/837772241...</td>\n",
              "    </tr>\n",
              "    <tr>\n",
              "      <th>2</th>\n",
              "      <td>Democrat</td>\n",
              "      <td>US Rep. Al Lawson Jr</td>\n",
              "      <td>RepAlLawsonJr</td>\n",
              "      <td>https://pbs.twimg.com/profile_images/818493713...</td>\n",
              "    </tr>\n",
              "    <tr>\n",
              "      <th>3</th>\n",
              "      <td>Democrat</td>\n",
              "      <td>Adriano Espaillat</td>\n",
              "      <td>RepEspaillat</td>\n",
              "      <td>https://pbs.twimg.com/profile_images/827580972...</td>\n",
              "    </tr>\n",
              "    <tr>\n",
              "      <th>4</th>\n",
              "      <td>Democrat</td>\n",
              "      <td>US Rep. Darren Soto</td>\n",
              "      <td>RepDarrenSoto</td>\n",
              "      <td>https://pbs.twimg.com/profile_images/824454906...</td>\n",
              "    </tr>\n",
              "    <tr>\n",
              "      <th>5</th>\n",
              "      <td>Democrat</td>\n",
              "      <td>Rep. Jacky Rosen</td>\n",
              "      <td>RepJackyRosen</td>\n",
              "      <td>https://pbs.twimg.com/profile_images/837772241...</td>\n",
              "    </tr>\n",
              "    <tr>\n",
              "      <th>6</th>\n",
              "      <td>Democrat</td>\n",
              "      <td>US Rep. Al Lawson Jr</td>\n",
              "      <td>RepAlLawsonJr</td>\n",
              "      <td>https://pbs.twimg.com/profile_images/818493713...</td>\n",
              "    </tr>\n",
              "    <tr>\n",
              "      <th>7</th>\n",
              "      <td>Democrat</td>\n",
              "      <td>Adriano Espaillat</td>\n",
              "      <td>RepEspaillat</td>\n",
              "      <td>https://pbs.twimg.com/profile_images/827580972...</td>\n",
              "    </tr>\n",
              "    <tr>\n",
              "      <th>8</th>\n",
              "      <td>Democrat</td>\n",
              "      <td>Rep. Blunt Rochester</td>\n",
              "      <td>RepBRochester</td>\n",
              "      <td>https://pbs.twimg.com/profile_images/912673706...</td>\n",
              "    </tr>\n",
              "    <tr>\n",
              "      <th>9</th>\n",
              "      <td>Democrat</td>\n",
              "      <td>Nanette D. Barragán</td>\n",
              "      <td>RepBarragan</td>\n",
              "      <td>https://pbs.twimg.com/profile_images/978337845...</td>\n",
              "    </tr>\n",
              "    <tr>\n",
              "      <th>10</th>\n",
              "      <td>Democrat</td>\n",
              "      <td>Tom Suozzi</td>\n",
              "      <td>RepTomSuozzi</td>\n",
              "      <td>https://pbs.twimg.com/profile_images/841322504...</td>\n",
              "    </tr>\n",
              "    <tr>\n",
              "      <th>11</th>\n",
              "      <td>Democrat</td>\n",
              "      <td>Rep. Ro Khanna</td>\n",
              "      <td>RepRoKhanna</td>\n",
              "      <td>https://pbs.twimg.com/profile_images/980828338...</td>\n",
              "    </tr>\n",
              "    <tr>\n",
              "      <th>12</th>\n",
              "      <td>Democrat</td>\n",
              "      <td>Rep. Ruben J. Kihuen</td>\n",
              "      <td>RepKihuen</td>\n",
              "      <td>https://pbs.twimg.com/profile_images/953714217...</td>\n",
              "    </tr>\n",
              "    <tr>\n",
              "      <th>13</th>\n",
              "      <td>Democrat</td>\n",
              "      <td>Rep. Donald McEachin</td>\n",
              "      <td>RepMcEachin</td>\n",
              "      <td>https://pbs.twimg.com/profile_images/948252111...</td>\n",
              "    </tr>\n",
              "    <tr>\n",
              "      <th>14</th>\n",
              "      <td>Democrat</td>\n",
              "      <td>Rep. Salud Carbajal</td>\n",
              "      <td>RepCarbajal</td>\n",
              "      <td>https://pbs.twimg.com/profile_images/995074405...</td>\n",
              "    </tr>\n",
              "    <tr>\n",
              "      <th>15</th>\n",
              "      <td>Democrat</td>\n",
              "      <td>Rep. Charlie Crist</td>\n",
              "      <td>RepCharlieCrist</td>\n",
              "      <td>https://pbs.twimg.com/profile_images/821404691...</td>\n",
              "    </tr>\n",
              "    <tr>\n",
              "      <th>16</th>\n",
              "      <td>Democrat</td>\n",
              "      <td>Rep. Lou Correa</td>\n",
              "      <td>RepLouCorrea</td>\n",
              "      <td>https://pbs.twimg.com/profile_images/958720189...</td>\n",
              "    </tr>\n",
              "    <tr>\n",
              "      <th>17</th>\n",
              "      <td>Democrat</td>\n",
              "      <td>Rep. Pramila Jayapal</td>\n",
              "      <td>RepJayapal</td>\n",
              "      <td>https://pbs.twimg.com/profile_images/978268908...</td>\n",
              "    </tr>\n",
              "    <tr>\n",
              "      <th>18</th>\n",
              "      <td>Democrat</td>\n",
              "      <td>Rep Josh Gottheimer</td>\n",
              "      <td>RepJoshG</td>\n",
              "      <td>https://pbs.twimg.com/profile_images/824380405...</td>\n",
              "    </tr>\n",
              "    <tr>\n",
              "      <th>19</th>\n",
              "      <td>Democrat</td>\n",
              "      <td>Raja Krishnamoorthi</td>\n",
              "      <td>CongressmanRaja</td>\n",
              "      <td>https://pbs.twimg.com/profile_images/817454739...</td>\n",
              "    </tr>\n",
              "    <tr>\n",
              "      <th>20</th>\n",
              "      <td>Democrat</td>\n",
              "      <td>Rep. Tom O'Halleran</td>\n",
              "      <td>RepOHalleran</td>\n",
              "      <td>https://pbs.twimg.com/profile_images/831523103...</td>\n",
              "    </tr>\n",
              "    <tr>\n",
              "      <th>21</th>\n",
              "      <td>Democrat</td>\n",
              "      <td>Rep. Jamie Raskin</td>\n",
              "      <td>RepRaskin</td>\n",
              "      <td>https://pbs.twimg.com/profile_images/978260612...</td>\n",
              "    </tr>\n",
              "    <tr>\n",
              "      <th>22</th>\n",
              "      <td>Democrat</td>\n",
              "      <td>Rep. Val Demings</td>\n",
              "      <td>RepValDemings</td>\n",
              "      <td>https://pbs.twimg.com/profile_images/992390788...</td>\n",
              "    </tr>\n",
              "    <tr>\n",
              "      <th>23</th>\n",
              "      <td>Democrat</td>\n",
              "      <td>Rep. Jimmy Panetta</td>\n",
              "      <td>RepJimmyPanetta</td>\n",
              "      <td>https://pbs.twimg.com/profile_images/827208718...</td>\n",
              "    </tr>\n",
              "    <tr>\n",
              "      <th>24</th>\n",
              "      <td>Republican</td>\n",
              "      <td>Debbie Lesko</td>\n",
              "      <td>RepDLesko</td>\n",
              "      <td>https://pbs.twimg.com/profile_images/996810968...</td>\n",
              "    </tr>\n",
              "    <tr>\n",
              "      <th>25</th>\n",
              "      <td>Republican</td>\n",
              "      <td>Ralph Norman</td>\n",
              "      <td>RepRalphNorman</td>\n",
              "      <td>https://pbs.twimg.com/profile_images/886594415...</td>\n",
              "    </tr>\n",
              "    <tr>\n",
              "      <th>26</th>\n",
              "      <td>Republican</td>\n",
              "      <td>Rep. Tom Garrett</td>\n",
              "      <td>RepTomGarrett</td>\n",
              "      <td>https://pbs.twimg.com/profile_images/910308763...</td>\n",
              "    </tr>\n",
              "    <tr>\n",
              "      <th>27</th>\n",
              "      <td>Republican</td>\n",
              "      <td>Rep. Arrington</td>\n",
              "      <td>RepArrington</td>\n",
              "      <td>https://pbs.twimg.com/profile_images/818265271...</td>\n",
              "    </tr>\n",
              "    <tr>\n",
              "      <th>28</th>\n",
              "      <td>Republican</td>\n",
              "      <td>Debbie Lesko</td>\n",
              "      <td>RepDLesko</td>\n",
              "      <td>https://pbs.twimg.com/profile_images/996810968...</td>\n",
              "    </tr>\n",
              "    <tr>\n",
              "      <th>29</th>\n",
              "      <td>Republican</td>\n",
              "      <td>Ralph Norman</td>\n",
              "      <td>RepRalphNorman</td>\n",
              "      <td>https://pbs.twimg.com/profile_images/886594415...</td>\n",
              "    </tr>\n",
              "    <tr>\n",
              "      <th>30</th>\n",
              "      <td>Republican</td>\n",
              "      <td>Rep. Tom Garrett</td>\n",
              "      <td>RepTomGarrett</td>\n",
              "      <td>https://pbs.twimg.com/profile_images/910308763...</td>\n",
              "    </tr>\n",
              "    <tr>\n",
              "      <th>31</th>\n",
              "      <td>Republican</td>\n",
              "      <td>Rep. Arrington</td>\n",
              "      <td>RepArrington</td>\n",
              "      <td>https://pbs.twimg.com/profile_images/818265271...</td>\n",
              "    </tr>\n",
              "    <tr>\n",
              "      <th>32</th>\n",
              "      <td>Republican</td>\n",
              "      <td>Jim Banks</td>\n",
              "      <td>RepJimBanks</td>\n",
              "      <td>https://pbs.twimg.com/profile_images/999752288...</td>\n",
              "    </tr>\n",
              "    <tr>\n",
              "      <th>33</th>\n",
              "      <td>Republican</td>\n",
              "      <td>Jason Lewis</td>\n",
              "      <td>RepJasonLewis</td>\n",
              "      <td>https://pbs.twimg.com/profile_images/816364935...</td>\n",
              "    </tr>\n",
              "    <tr>\n",
              "      <th>34</th>\n",
              "      <td>Republican</td>\n",
              "      <td>Rep. Mike Gallagher</td>\n",
              "      <td>RepGallagher</td>\n",
              "      <td>https://pbs.twimg.com/profile_images/819978410...</td>\n",
              "    </tr>\n",
              "    <tr>\n",
              "      <th>35</th>\n",
              "      <td>Republican</td>\n",
              "      <td>Dr. Neal Dunn</td>\n",
              "      <td>DrNealDunnFL2</td>\n",
              "      <td>https://pbs.twimg.com/profile_images/817396749...</td>\n",
              "    </tr>\n",
              "    <tr>\n",
              "      <th>36</th>\n",
              "      <td>Republican</td>\n",
              "      <td>John Faso</td>\n",
              "      <td>RepJohnFaso</td>\n",
              "      <td>https://pbs.twimg.com/profile_images/817512781...</td>\n",
              "    </tr>\n",
              "    <tr>\n",
              "      <th>37</th>\n",
              "      <td>Republican</td>\n",
              "      <td>Rep. Jack Bergman</td>\n",
              "      <td>RepJackBergman</td>\n",
              "      <td>https://pbs.twimg.com/profile_images/816703874...</td>\n",
              "    </tr>\n",
              "    <tr>\n",
              "      <th>38</th>\n",
              "      <td>Republican</td>\n",
              "      <td>Rep. Brian Mast</td>\n",
              "      <td>RepBrianMast</td>\n",
              "      <td>https://pbs.twimg.com/profile_images/816019324...</td>\n",
              "    </tr>\n",
              "    <tr>\n",
              "      <th>39</th>\n",
              "      <td>Republican</td>\n",
              "      <td>Trey Hollingsworth</td>\n",
              "      <td>RepTrey</td>\n",
              "      <td>https://pbs.twimg.com/profile_images/823622288...</td>\n",
              "    </tr>\n",
              "    <tr>\n",
              "      <th>40</th>\n",
              "      <td>Republican</td>\n",
              "      <td>Rep. Paul Mitchell</td>\n",
              "      <td>RepPaulMitchell</td>\n",
              "      <td>https://pbs.twimg.com/profile_images/836624778...</td>\n",
              "    </tr>\n",
              "    <tr>\n",
              "      <th>41</th>\n",
              "      <td>Republican</td>\n",
              "      <td>Drew Ferguson</td>\n",
              "      <td>RepDrewFerguson</td>\n",
              "      <td>https://pbs.twimg.com/profile_images/822518879...</td>\n",
              "    </tr>\n",
              "    <tr>\n",
              "      <th>42</th>\n",
              "      <td>Republican</td>\n",
              "      <td>House Budget GOP</td>\n",
              "      <td>housebudgetGOP</td>\n",
              "      <td>https://pbs.twimg.com/profile_images/877202119...</td>\n",
              "    </tr>\n",
              "    <tr>\n",
              "      <th>43</th>\n",
              "      <td>Republican</td>\n",
              "      <td>Office of Rep. Amash</td>\n",
              "      <td>amashoffice</td>\n",
              "      <td>https://pbs.twimg.com/profile_images/774995905...</td>\n",
              "    </tr>\n",
              "    <tr>\n",
              "      <th>44</th>\n",
              "      <td>Republican</td>\n",
              "      <td>Warren Davidson</td>\n",
              "      <td>WarrenDavidson</td>\n",
              "      <td>https://pbs.twimg.com/profile_images/976467967...</td>\n",
              "    </tr>\n",
              "    <tr>\n",
              "      <th>45</th>\n",
              "      <td>Republican</td>\n",
              "      <td>Darin LaHood</td>\n",
              "      <td>RepLaHood</td>\n",
              "      <td>https://pbs.twimg.com/profile_images/884784404...</td>\n",
              "    </tr>\n",
              "    <tr>\n",
              "      <th>46</th>\n",
              "      <td>Republican</td>\n",
              "      <td>House Committee on Small Business</td>\n",
              "      <td>HouseSmallBiz</td>\n",
              "      <td>https://pbs.twimg.com/profile_images/993492993...</td>\n",
              "    </tr>\n",
              "    <tr>\n",
              "      <th>47</th>\n",
              "      <td>Republican</td>\n",
              "      <td>Rep. Mia Love</td>\n",
              "      <td>RepMiaLove</td>\n",
              "      <td>https://pbs.twimg.com/profile_images/674678985...</td>\n",
              "    </tr>\n",
              "  </tbody>\n",
              "</table>\n",
              "</div>\n",
              "      <button class=\"colab-df-convert\" onclick=\"convertToInteractive('df-42660f27-4e03-4eec-8bb3-78dfed42e533')\"\n",
              "              title=\"Convert this dataframe to an interactive table.\"\n",
              "              style=\"display:none;\">\n",
              "        \n",
              "  <svg xmlns=\"http://www.w3.org/2000/svg\" height=\"24px\"viewBox=\"0 0 24 24\"\n",
              "       width=\"24px\">\n",
              "    <path d=\"M0 0h24v24H0V0z\" fill=\"none\"/>\n",
              "    <path d=\"M18.56 5.44l.94 2.06.94-2.06 2.06-.94-2.06-.94-.94-2.06-.94 2.06-2.06.94zm-11 1L8.5 8.5l.94-2.06 2.06-.94-2.06-.94L8.5 2.5l-.94 2.06-2.06.94zm10 10l.94 2.06.94-2.06 2.06-.94-2.06-.94-.94-2.06-.94 2.06-2.06.94z\"/><path d=\"M17.41 7.96l-1.37-1.37c-.4-.4-.92-.59-1.43-.59-.52 0-1.04.2-1.43.59L10.3 9.45l-7.72 7.72c-.78.78-.78 2.05 0 2.83L4 21.41c.39.39.9.59 1.41.59.51 0 1.02-.2 1.41-.59l7.78-7.78 2.81-2.81c.8-.78.8-2.07 0-2.86zM5.41 20L4 18.59l7.72-7.72 1.47 1.35L5.41 20z\"/>\n",
              "  </svg>\n",
              "      </button>\n",
              "      \n",
              "  <style>\n",
              "    .colab-df-container {\n",
              "      display:flex;\n",
              "      flex-wrap:wrap;\n",
              "      gap: 12px;\n",
              "    }\n",
              "\n",
              "    .colab-df-convert {\n",
              "      background-color: #E8F0FE;\n",
              "      border: none;\n",
              "      border-radius: 50%;\n",
              "      cursor: pointer;\n",
              "      display: none;\n",
              "      fill: #1967D2;\n",
              "      height: 32px;\n",
              "      padding: 0 0 0 0;\n",
              "      width: 32px;\n",
              "    }\n",
              "\n",
              "    .colab-df-convert:hover {\n",
              "      background-color: #E2EBFA;\n",
              "      box-shadow: 0px 1px 2px rgba(60, 64, 67, 0.3), 0px 1px 3px 1px rgba(60, 64, 67, 0.15);\n",
              "      fill: #174EA6;\n",
              "    }\n",
              "\n",
              "    [theme=dark] .colab-df-convert {\n",
              "      background-color: #3B4455;\n",
              "      fill: #D2E3FC;\n",
              "    }\n",
              "\n",
              "    [theme=dark] .colab-df-convert:hover {\n",
              "      background-color: #434B5C;\n",
              "      box-shadow: 0px 1px 3px 1px rgba(0, 0, 0, 0.15);\n",
              "      filter: drop-shadow(0px 1px 2px rgba(0, 0, 0, 0.3));\n",
              "      fill: #FFFFFF;\n",
              "    }\n",
              "  </style>\n",
              "\n",
              "      <script>\n",
              "        const buttonEl =\n",
              "          document.querySelector('#df-42660f27-4e03-4eec-8bb3-78dfed42e533 button.colab-df-convert');\n",
              "        buttonEl.style.display =\n",
              "          google.colab.kernel.accessAllowed ? 'block' : 'none';\n",
              "\n",
              "        async function convertToInteractive(key) {\n",
              "          const element = document.querySelector('#df-42660f27-4e03-4eec-8bb3-78dfed42e533');\n",
              "          const dataTable =\n",
              "            await google.colab.kernel.invokeFunction('convertToInteractive',\n",
              "                                                     [key], {});\n",
              "          if (!dataTable) return;\n",
              "\n",
              "          const docLinkHtml = 'Like what you see? Visit the ' +\n",
              "            '<a target=\"_blank\" href=https://colab.research.google.com/notebooks/data_table.ipynb>data table notebook</a>'\n",
              "            + ' to learn more about interactive tables.';\n",
              "          element.innerHTML = '';\n",
              "          dataTable['output_type'] = 'display_data';\n",
              "          await google.colab.output.renderOutput(dataTable, element);\n",
              "          const docLink = document.createElement('div');\n",
              "          docLink.innerHTML = docLinkHtml;\n",
              "          element.appendChild(docLink);\n",
              "        }\n",
              "      </script>\n",
              "    </div>\n",
              "  </div>\n",
              "  "
            ]
          },
          "metadata": {},
          "execution_count": 5
        }
      ]
    },
    {
      "cell_type": "code",
      "source": [
        "df.info"
      ],
      "metadata": {
        "colab": {
          "base_uri": "https://localhost:8080/",
          "height": 0
        },
        "id": "84k-P3QUxWyf",
        "outputId": "2f2478be-680d-4464-f49b-53e8071d6a72"
      },
      "execution_count": 7,
      "outputs": [
        {
          "output_type": "execute_result",
          "data": {
            "text/plain": [
              "<bound method DataFrame.info of          Party                               Name           Handle  \\\n",
              "0     Democrat                US Rep. Darren Soto    RepDarrenSoto   \n",
              "1     Democrat                   Rep. Jacky Rosen    RepJackyRosen   \n",
              "2     Democrat               US Rep. Al Lawson Jr    RepAlLawsonJr   \n",
              "3     Democrat                  Adriano Espaillat     RepEspaillat   \n",
              "4     Democrat                US Rep. Darren Soto    RepDarrenSoto   \n",
              "5     Democrat                   Rep. Jacky Rosen    RepJackyRosen   \n",
              "6     Democrat               US Rep. Al Lawson Jr    RepAlLawsonJr   \n",
              "7     Democrat                  Adriano Espaillat     RepEspaillat   \n",
              "8     Democrat               Rep. Blunt Rochester    RepBRochester   \n",
              "9     Democrat                Nanette D. Barragán      RepBarragan   \n",
              "10    Democrat                         Tom Suozzi     RepTomSuozzi   \n",
              "11    Democrat                     Rep. Ro Khanna      RepRoKhanna   \n",
              "12    Democrat               Rep. Ruben J. Kihuen        RepKihuen   \n",
              "13    Democrat               Rep. Donald McEachin      RepMcEachin   \n",
              "14    Democrat                Rep. Salud Carbajal      RepCarbajal   \n",
              "15    Democrat                 Rep. Charlie Crist  RepCharlieCrist   \n",
              "16    Democrat                    Rep. Lou Correa     RepLouCorrea   \n",
              "17    Democrat               Rep. Pramila Jayapal       RepJayapal   \n",
              "18    Democrat                Rep Josh Gottheimer         RepJoshG   \n",
              "19    Democrat                Raja Krishnamoorthi  CongressmanRaja   \n",
              "20    Democrat                Rep. Tom O'Halleran     RepOHalleran   \n",
              "21    Democrat                  Rep. Jamie Raskin        RepRaskin   \n",
              "22    Democrat                   Rep. Val Demings    RepValDemings   \n",
              "23    Democrat                 Rep. Jimmy Panetta  RepJimmyPanetta   \n",
              "24  Republican                       Debbie Lesko        RepDLesko   \n",
              "25  Republican                       Ralph Norman   RepRalphNorman   \n",
              "26  Republican                   Rep. Tom Garrett    RepTomGarrett   \n",
              "27  Republican                     Rep. Arrington     RepArrington   \n",
              "28  Republican                       Debbie Lesko        RepDLesko   \n",
              "29  Republican                       Ralph Norman   RepRalphNorman   \n",
              "30  Republican                   Rep. Tom Garrett    RepTomGarrett   \n",
              "31  Republican                     Rep. Arrington     RepArrington   \n",
              "32  Republican                          Jim Banks      RepJimBanks   \n",
              "33  Republican                        Jason Lewis    RepJasonLewis   \n",
              "34  Republican                Rep. Mike Gallagher     RepGallagher   \n",
              "35  Republican                      Dr. Neal Dunn    DrNealDunnFL2   \n",
              "36  Republican                          John Faso      RepJohnFaso   \n",
              "37  Republican                  Rep. Jack Bergman   RepJackBergman   \n",
              "38  Republican                    Rep. Brian Mast     RepBrianMast   \n",
              "39  Republican                 Trey Hollingsworth          RepTrey   \n",
              "40  Republican                 Rep. Paul Mitchell  RepPaulMitchell   \n",
              "41  Republican                      Drew Ferguson  RepDrewFerguson   \n",
              "42  Republican                   House Budget GOP   housebudgetGOP   \n",
              "43  Republican               Office of Rep. Amash      amashoffice   \n",
              "44  Republican                    Warren Davidson   WarrenDavidson   \n",
              "45  Republican                       Darin LaHood        RepLaHood   \n",
              "46  Republican  House Committee on Small Business    HouseSmallBiz   \n",
              "47  Republican                      Rep. Mia Love       RepMiaLove   \n",
              "\n",
              "                                            AvatarURL  \n",
              "0   https://pbs.twimg.com/profile_images/824454906...  \n",
              "1   https://pbs.twimg.com/profile_images/837772241...  \n",
              "2   https://pbs.twimg.com/profile_images/818493713...  \n",
              "3   https://pbs.twimg.com/profile_images/827580972...  \n",
              "4   https://pbs.twimg.com/profile_images/824454906...  \n",
              "5   https://pbs.twimg.com/profile_images/837772241...  \n",
              "6   https://pbs.twimg.com/profile_images/818493713...  \n",
              "7   https://pbs.twimg.com/profile_images/827580972...  \n",
              "8   https://pbs.twimg.com/profile_images/912673706...  \n",
              "9   https://pbs.twimg.com/profile_images/978337845...  \n",
              "10  https://pbs.twimg.com/profile_images/841322504...  \n",
              "11  https://pbs.twimg.com/profile_images/980828338...  \n",
              "12  https://pbs.twimg.com/profile_images/953714217...  \n",
              "13  https://pbs.twimg.com/profile_images/948252111...  \n",
              "14  https://pbs.twimg.com/profile_images/995074405...  \n",
              "15  https://pbs.twimg.com/profile_images/821404691...  \n",
              "16  https://pbs.twimg.com/profile_images/958720189...  \n",
              "17  https://pbs.twimg.com/profile_images/978268908...  \n",
              "18  https://pbs.twimg.com/profile_images/824380405...  \n",
              "19  https://pbs.twimg.com/profile_images/817454739...  \n",
              "20  https://pbs.twimg.com/profile_images/831523103...  \n",
              "21  https://pbs.twimg.com/profile_images/978260612...  \n",
              "22  https://pbs.twimg.com/profile_images/992390788...  \n",
              "23  https://pbs.twimg.com/profile_images/827208718...  \n",
              "24  https://pbs.twimg.com/profile_images/996810968...  \n",
              "25  https://pbs.twimg.com/profile_images/886594415...  \n",
              "26  https://pbs.twimg.com/profile_images/910308763...  \n",
              "27  https://pbs.twimg.com/profile_images/818265271...  \n",
              "28  https://pbs.twimg.com/profile_images/996810968...  \n",
              "29  https://pbs.twimg.com/profile_images/886594415...  \n",
              "30  https://pbs.twimg.com/profile_images/910308763...  \n",
              "31  https://pbs.twimg.com/profile_images/818265271...  \n",
              "32  https://pbs.twimg.com/profile_images/999752288...  \n",
              "33  https://pbs.twimg.com/profile_images/816364935...  \n",
              "34  https://pbs.twimg.com/profile_images/819978410...  \n",
              "35  https://pbs.twimg.com/profile_images/817396749...  \n",
              "36  https://pbs.twimg.com/profile_images/817512781...  \n",
              "37  https://pbs.twimg.com/profile_images/816703874...  \n",
              "38  https://pbs.twimg.com/profile_images/816019324...  \n",
              "39  https://pbs.twimg.com/profile_images/823622288...  \n",
              "40  https://pbs.twimg.com/profile_images/836624778...  \n",
              "41  https://pbs.twimg.com/profile_images/822518879...  \n",
              "42  https://pbs.twimg.com/profile_images/877202119...  \n",
              "43  https://pbs.twimg.com/profile_images/774995905...  \n",
              "44  https://pbs.twimg.com/profile_images/976467967...  \n",
              "45  https://pbs.twimg.com/profile_images/884784404...  \n",
              "46  https://pbs.twimg.com/profile_images/993492993...  \n",
              "47  https://pbs.twimg.com/profile_images/674678985...  >"
            ]
          },
          "metadata": {},
          "execution_count": 7
        }
      ]
    },
    {
      "cell_type": "code",
      "source": [
        "df.shape\n"
      ],
      "metadata": {
        "colab": {
          "base_uri": "https://localhost:8080/",
          "height": 0
        },
        "id": "-f7sz-GkxrXo",
        "outputId": "d912bd52-14f5-4f53-bff4-57adedd7d18e"
      },
      "execution_count": 8,
      "outputs": [
        {
          "output_type": "execute_result",
          "data": {
            "text/plain": [
              "(48, 4)"
            ]
          },
          "metadata": {},
          "execution_count": 8
        }
      ]
    },
    {
      "cell_type": "code",
      "source": [
        "df.size"
      ],
      "metadata": {
        "colab": {
          "base_uri": "https://localhost:8080/",
          "height": 0
        },
        "id": "9T8mMQCFxv-F",
        "outputId": "ab008757-1051-4409-fbe4-364856ae37a4"
      },
      "execution_count": 9,
      "outputs": [
        {
          "output_type": "execute_result",
          "data": {
            "text/plain": [
              "192"
            ]
          },
          "metadata": {},
          "execution_count": 9
        }
      ]
    },
    {
      "cell_type": "code",
      "source": [
        "df['Party'].value_counts()"
      ],
      "metadata": {
        "colab": {
          "base_uri": "https://localhost:8080/",
          "height": 0
        },
        "id": "YU7j4eK_yB1T",
        "outputId": "bcca4adb-5301-450d-e262-43082246bb41"
      },
      "execution_count": 11,
      "outputs": [
        {
          "output_type": "execute_result",
          "data": {
            "text/plain": [
              "Democrat      24\n",
              "Republican    24\n",
              "Name: Party, dtype: int64"
            ]
          },
          "metadata": {},
          "execution_count": 11
        }
      ]
    },
    {
      "cell_type": "code",
      "source": [
        "df['Party'].value_counts().plot(kind = 'bar')"
      ],
      "metadata": {
        "colab": {
          "base_uri": "https://localhost:8080/",
          "height": 330
        },
        "id": "ODt9YTV2yL3J",
        "outputId": "131d7556-6a35-47dd-b352-675c83eee68b"
      },
      "execution_count": 12,
      "outputs": [
        {
          "output_type": "execute_result",
          "data": {
            "text/plain": [
              "<matplotlib.axes._subplots.AxesSubplot at 0x7fa10e9d6650>"
            ]
          },
          "metadata": {},
          "execution_count": 12
        },
        {
          "output_type": "display_data",
          "data": {
            "text/plain": [
              "<Figure size 432x288 with 1 Axes>"
            ],
            "image/png": "[encoded data removed]"
          },
          "metadata": {
            "needs_background": "light"
          }
        }
      ]
    },
    {
      "cell_type": "code",
      "source": [
        "x = df.iloc[:,1].values\n",
        "y = df.iloc[:,0].values\n",
        "print(x)\n",
        "print(y)"
      ],
      "metadata": {
        "colab": {
          "base_uri": "https://localhost:8080/",
          "height": 0
        },
        "id": "6n33EhJMyZbI",
        "outputId": "6299dfb1-dc27-464c-f325-9e188240dc7d"
      },
      "execution_count": 13,
      "outputs": [
        {
          "output_type": "stream",
          "name": "stdout",
          "text": [
            "['US Rep. Darren Soto' 'Rep. Jacky Rosen' 'US Rep. Al Lawson Jr'\n",
            " 'Adriano Espaillat' 'US Rep. Darren Soto' 'Rep. Jacky Rosen'\n",
            " 'US Rep. Al Lawson Jr' 'Adriano Espaillat' 'Rep. Blunt Rochester'\n",
            " 'Nanette D. Barragán' 'Tom Suozzi' 'Rep. Ro Khanna'\n",
            " 'Rep. Ruben J. Kihuen' 'Rep. Donald McEachin' 'Rep. Salud Carbajal'\n",
            " 'Rep. Charlie Crist' 'Rep. Lou Correa' 'Rep. Pramila Jayapal'\n",
            " 'Rep Josh Gottheimer' 'Raja Krishnamoorthi' \"Rep. Tom O'Halleran\"\n",
            " 'Rep. Jamie Raskin' 'Rep. Val Demings' 'Rep. Jimmy Panetta'\n",
            " 'Debbie Lesko' 'Ralph Norman' 'Rep. Tom Garrett' 'Rep. Arrington'\n",
            " 'Debbie Lesko' 'Ralph Norman' 'Rep. Tom Garrett' 'Rep. Arrington'\n",
            " 'Jim Banks' 'Jason Lewis' 'Rep. Mike Gallagher' 'Dr. Neal Dunn'\n",
            " 'John Faso' 'Rep. Jack Bergman' 'Rep. Brian Mast' 'Trey Hollingsworth'\n",
            " 'Rep. Paul Mitchell' 'Drew Ferguson' 'House Budget GOP'\n",
            " 'Office of Rep. Amash' 'Warren Davidson' 'Darin LaHood'\n",
            " 'House Committee on Small Business' 'Rep. Mia Love']\n",
            "['Democrat' 'Democrat' 'Democrat' 'Democrat' 'Democrat' 'Democrat'\n",
            " 'Democrat' 'Democrat' 'Democrat' 'Democrat' 'Democrat' 'Democrat'\n",
            " 'Democrat' 'Democrat' 'Democrat' 'Democrat' 'Democrat' 'Democrat'\n",
            " 'Democrat' 'Democrat' 'Democrat' 'Democrat' 'Democrat' 'Democrat'\n",
            " 'Republican' 'Republican' 'Republican' 'Republican' 'Republican'\n",
            " 'Republican' 'Republican' 'Republican' 'Republican' 'Republican'\n",
            " 'Republican' 'Republican' 'Republican' 'Republican' 'Republican'\n",
            " 'Republican' 'Republican' 'Republican' 'Republican' 'Republican'\n",
            " 'Republican' 'Republican' 'Republican' 'Republican']\n"
          ]
        }
      ]
    },
    {
      "cell_type": "code",
      "source": [
        "from sklearn.model_selection import train_test_split\n",
        "x_train,x_test,y_train,y_test = train_test_split(x,y,random_state = 0)"
      ],
      "metadata": {
        "id": "MXfwtwf3yp6V"
      },
      "execution_count": 14,
      "outputs": []
    },
    {
      "cell_type": "code",
      "source": [
        "from sklearn.feature_extraction.text import TfidfVectorizer\n",
        "vect = TfidfVectorizer()\n",
        "x_train_v = vect.fit_transform(x_train)\n",
        "x_test_v = vect.transform(x_test)"
      ],
      "metadata": {
        "id": "Coq_WiMAyyVj"
      },
      "execution_count": 15,
      "outputs": []
    },
    {
      "cell_type": "code",
      "source": [
        "from sklearn.svm import SVC\n",
        "model = SVC()"
      ],
      "metadata": {
        "id": "I9FG_Cony2mY"
      },
      "execution_count": 16,
      "outputs": []
    },
    {
      "cell_type": "code",
      "source": [
        "model.fit(x_train_v,y_train)"
      ],
      "metadata": {
        "colab": {
          "base_uri": "https://localhost:8080/",
          "height": 0
        },
        "id": "ZgvSM1CFy9Og",
        "outputId": "85a02a6c-5842-4029-b64e-c20266213380"
      },
      "execution_count": 17,
      "outputs": [
        {
          "output_type": "execute_result",
          "data": {
            "text/plain": [
              "SVC()"
            ]
          },
          "metadata": {},
          "execution_count": 17
        }
      ]
    },
    {
      "cell_type": "code",
      "source": [
        "y_pred = model.predict(x_test_v)\n",
        "y_pred "
      ],
      "metadata": {
        "colab": {
          "base_uri": "https://localhost:8080/",
          "height": 0
        },
        "id": "HCoJrPzey_Mf",
        "outputId": "3ce422ea-6baa-4c70-ef75-09d501a49d96"
      },
      "execution_count": 18,
      "outputs": [
        {
          "output_type": "execute_result",
          "data": {
            "text/plain": [
              "array(['Republican', 'Democrat', 'Democrat', 'Democrat', 'Democrat',\n",
              "       'Democrat', 'Democrat', 'Democrat', 'Democrat', 'Democrat',\n",
              "       'Democrat', 'Republican'], dtype=object)"
            ]
          },
          "metadata": {},
          "execution_count": 18
        }
      ]
    },
    {
      "cell_type": "code",
      "source": [
        "y_test"
      ],
      "metadata": {
        "colab": {
          "base_uri": "https://localhost:8080/",
          "height": 0
        },
        "id": "jgyjM9nWzFX-",
        "outputId": "87f9ac8f-feca-4aa3-b6a4-0f5bff0c1204"
      },
      "execution_count": 19,
      "outputs": [
        {
          "output_type": "execute_result",
          "data": {
            "text/plain": [
              "array(['Republican', 'Democrat', 'Republican', 'Republican', 'Republican',\n",
              "       'Republican', 'Republican', 'Republican', 'Democrat', 'Democrat',\n",
              "       'Democrat', 'Republican'], dtype=object)"
            ]
          },
          "metadata": {},
          "execution_count": 19
        }
      ]
    },
    {
      "cell_type": "code",
      "source": [
        "from sklearn.metrics import accuracy_score\n",
        "accuracy_score(y_pred,y_test)*100"
      ],
      "metadata": {
        "colab": {
          "base_uri": "https://localhost:8080/",
          "height": 0
        },
        "id": "_1CtN01tzLO7",
        "outputId": "d77bfe13-ad97-47fd-f635-2dae0ac4a07b"
      },
      "execution_count": 20,
      "outputs": [
        {
          "output_type": "execute_result",
          "data": {
            "text/plain": [
              "50.0"
            ]
          },
          "metadata": {},
          "execution_count": 20
        }
      ]
    },
    {
      "cell_type": "code",
      "source": [
        "a = df['Name'][3]\n",
        "a"
      ],
      "metadata": {
        "colab": {
          "base_uri": "https://localhost:8080/",
          "height": 36
        },
        "id": "XEcGdR8qzmNW",
        "outputId": "29b68e77-adbe-4b99-8812-1bcebe2d7d40"
      },
      "execution_count": 24,
      "outputs": [
        {
          "output_type": "execute_result",
          "data": {
            "text/plain": [
              "'Adriano Espaillat'"
            ],
            "application/vnd.google.colaboratory.intrinsic+json": {
              "type": "string"
            }
          },
          "metadata": {},
          "execution_count": 24
        }
      ]
    },
    {
      "cell_type": "code",
      "source": [
        "a = vect.transform([a])\n",
        "model.predict(a)"
      ],
      "metadata": {
        "colab": {
          "base_uri": "https://localhost:8080/",
          "height": 0
        },
        "id": "I0RhulW_0OZH",
        "outputId": "d645ca4f-b4eb-4923-bb10-508b2259cc5c"
      },
      "execution_count": 25,
      "outputs": [
        {
          "output_type": "execute_result",
          "data": {
            "text/plain": [
              "array(['Democrat'], dtype=object)"
            ]
          },
          "metadata": {},
          "execution_count": 25
        }
      ]
    },
    {
      "cell_type": "code",
      "source": [
        "b = df['Name'][13]\n",
        "b"
      ],
      "metadata": {
        "colab": {
          "base_uri": "https://localhost:8080/",
          "height": 36
        },
        "id": "DoOshROY1de5",
        "outputId": "170a5829-67dd-40ae-81be-84393b39c338"
      },
      "execution_count": 27,
      "outputs": [
        {
          "output_type": "execute_result",
          "data": {
            "text/plain": [
              "'Rep. Donald McEachin'"
            ],
            "application/vnd.google.colaboratory.intrinsic+json": {
              "type": "string"
            }
          },
          "metadata": {},
          "execution_count": 27
        }
      ]
    },
    {
      "cell_type": "code",
      "source": [
        "b = vect.transform([b])\n",
        "model.predict(b)"
      ],
      "metadata": {
        "colab": {
          "base_uri": "https://localhost:8080/",
          "height": 0
        },
        "id": "XiEhTiSy1o9q",
        "outputId": "9eb7111d-0511-43a0-be28-ac6a8a902a4c"
      },
      "execution_count": 28,
      "outputs": [
        {
          "output_type": "execute_result",
          "data": {
            "text/plain": [
              "array(['Democrat'], dtype=object)"
            ]
          },
          "metadata": {},
          "execution_count": 28
        }
      ]
    },
    {
      "cell_type": "code",
      "source": [
        "c = 'chaitanya'\n",
        "c"
      ],
      "metadata": {
        "colab": {
          "base_uri": "https://localhost:8080/",
          "height": 36
        },
        "id": "9qr6gK0i1sUs",
        "outputId": "80767d08-8a14-41d2-cc44-27f6c1be4b8f"
      },
      "execution_count": 30,
      "outputs": [
        {
          "output_type": "execute_result",
          "data": {
            "text/plain": [
              "'chaitanya'"
            ],
            "application/vnd.google.colaboratory.intrinsic+json": {
              "type": "string"
            }
          },
          "metadata": {},
          "execution_count": 30
        }
      ]
    },
    {
      "cell_type": "code",
      "source": [
        "c = vect.transform([c])\n",
        "model.predict(c)"
      ],
      "metadata": {
        "colab": {
          "base_uri": "https://localhost:8080/",
          "height": 0
        },
        "id": "Y2elqgR12QAd",
        "outputId": "d1e9bbe2-6246-42c2-ad90-379a3d2f6fe6"
      },
      "execution_count": 31,
      "outputs": [
        {
          "output_type": "execute_result",
          "data": {
            "text/plain": [
              "array(['Democrat'], dtype=object)"
            ]
          },
          "metadata": {},
          "execution_count": 31
        }
      ]
    },
    {
      "cell_type": "code",
      "source": [
        "from sklearn.pipeline import make_pipeline\n",
        "text_model = make_pipeline(TfidfVectorizer(),SVC())\n",
        "text_model.fit(x_train,y_train)"
      ],
      "metadata": {
        "colab": {
          "base_uri": "https://localhost:8080/",
          "height": 0
        },
        "id": "Q20zMN5t2pk4",
        "outputId": "e1672aa1-05df-48be-935a-8e05a882a407"
      },
      "execution_count": 32,
      "outputs": [
        {
          "output_type": "execute_result",
          "data": {
            "text/plain": [
              "Pipeline(steps=[('tfidfvectorizer', TfidfVectorizer()), ('svc', SVC())])"
            ]
          },
          "metadata": {},
          "execution_count": 32
        }
      ]
    },
    {
      "cell_type": "code",
      "source": [
        "\n",
        "y_pred1 = text_model.predict(x_test)\n",
        "y_pred1 "
      ],
      "metadata": {
        "colab": {
          "base_uri": "https://localhost:8080/",
          "height": 0
        },
        "id": "eA4CkaM72rdH",
        "outputId": "e70ac974-a726-4eb7-83fb-349dd3bb9a0c"
      },
      "execution_count": 33,
      "outputs": [
        {
          "output_type": "execute_result",
          "data": {
            "text/plain": [
              "array(['Republican', 'Democrat', 'Democrat', 'Democrat', 'Democrat',\n",
              "       'Democrat', 'Democrat', 'Democrat', 'Democrat', 'Democrat',\n",
              "       'Democrat', 'Republican'], dtype=object)"
            ]
          },
          "metadata": {},
          "execution_count": 33
        }
      ]
    },
    {
      "cell_type": "code",
      "source": [
        "y_test"
      ],
      "metadata": {
        "colab": {
          "base_uri": "https://localhost:8080/",
          "height": 0
        },
        "id": "UJtvYvjm2yNU",
        "outputId": "c2d05023-4346-404d-a02f-7d929712dbf4"
      },
      "execution_count": 34,
      "outputs": [
        {
          "output_type": "execute_result",
          "data": {
            "text/plain": [
              "array(['Republican', 'Democrat', 'Republican', 'Republican', 'Republican',\n",
              "       'Republican', 'Republican', 'Republican', 'Democrat', 'Democrat',\n",
              "       'Democrat', 'Republican'], dtype=object)"
            ]
          },
          "metadata": {},
          "execution_count": 34
        }
      ]
    },
    {
      "cell_type": "code",
      "source": [
        "\n",
        "accuracy_score(y_pred1,y_test)*100"
      ],
      "metadata": {
        "colab": {
          "base_uri": "https://localhost:8080/",
          "height": 0
        },
        "id": "lSZrNeXW28_C",
        "outputId": "8fb1b721-90f7-4eee-bbd7-f661ea9555f5"
      },
      "execution_count": 35,
      "outputs": [
        {
          "output_type": "execute_result",
          "data": {
            "text/plain": [
              "50.0"
            ]
          },
          "metadata": {},
          "execution_count": 35
        }
      ]
    },
    {
      "cell_type": "code",
      "source": [
        "a1 = df['Name'][2]\n",
        "a1"
      ],
      "metadata": {
        "colab": {
          "base_uri": "https://localhost:8080/",
          "height": 36
        },
        "id": "bMeiMlUy3PiO",
        "outputId": "11785a94-879e-477e-c6ac-f63648f10c17"
      },
      "execution_count": 36,
      "outputs": [
        {
          "output_type": "execute_result",
          "data": {
            "text/plain": [
              "'US Rep. Al Lawson Jr'"
            ],
            "application/vnd.google.colaboratory.intrinsic+json": {
              "type": "string"
            }
          },
          "metadata": {},
          "execution_count": 36
        }
      ]
    },
    {
      "cell_type": "code",
      "source": [
        "text_model.predict([a1])"
      ],
      "metadata": {
        "colab": {
          "base_uri": "https://localhost:8080/",
          "height": 0
        },
        "id": "_7zermZb3UXQ",
        "outputId": "09ecc521-d651-4e5a-f686-e1a00309eabe"
      },
      "execution_count": 37,
      "outputs": [
        {
          "output_type": "execute_result",
          "data": {
            "text/plain": [
              "array(['Democrat'], dtype=object)"
            ]
          },
          "metadata": {},
          "execution_count": 37
        }
      ]
    },
    {
      "cell_type": "code",
      "source": [
        "import joblib\n",
        "joblib.dump(text_model,'TwitterHandles')"
      ],
      "metadata": {
        "colab": {
          "base_uri": "https://localhost:8080/",
          "height": 0
        },
        "id": "r40pcg_t3Zs3",
        "outputId": "c68b5b9e-eb56-4990-c3de-576576490517"
      },
      "execution_count": 39,
      "outputs": [
        {
          "output_type": "execute_result",
          "data": {
            "text/plain": [
              "['TwitterHandles']"
            ]
          },
          "metadata": {},
          "execution_count": 39
        }
      ]
    }
  ]
}